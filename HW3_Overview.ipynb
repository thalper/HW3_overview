{
 "cells": [
  {
   "cell_type": "code",
   "execution_count": 1,
   "metadata": {},
   "outputs": [],
   "source": [
    "%load_ext autoreload\n",
    "%autoreload 2\n",
    "%matplotlib inline\n",
    "\n",
    "from sklearn.datasets import load_breast_cancer\n",
    "\n",
    "from sklearn.model_selection import train_test_split\n",
    "import numpy as np\n",
    "import collections\n",
    "import math\n",
    "import os\n",
    "\n",
    "\n",
    "seed = 222\n",
    "\n",
    "\n",
    "import hw3_submission_sol as hw3\n"
   ]
  },
  {
   "cell_type": "markdown",
   "metadata": {},
   "source": [
    "# 0. Check the datasets"
   ]
  },
  {
   "cell_type": "markdown",
   "metadata": {},
   "source": [
    "Print dataset information to see is correctly loaded"
   ]
  },
  {
   "cell_type": "markdown",
   "metadata": {},
   "source": [
    "## Cancer dataset"
   ]
  },
  {
   "cell_type": "code",
   "execution_count": 4,
   "metadata": {},
   "outputs": [],
   "source": [
    "data_cancer = load_breast_cancer()\n",
    "X_train_cancer, X_test_cancer, y_train_cancer, y_test_cancer = train_test_split(data_cancer.data, data_cancer.target, test_size=0.33, random_state=seed)"
   ]
  },
  {
   "cell_type": "code",
   "execution_count": 5,
   "metadata": {
    "scrolled": true
   },
   "outputs": [
    {
     "name": "stdout",
     "output_type": "stream",
     "text": [
      "A sample from the training dataset:\n",
      "\n",
      "[1.453e+01 1.398e+01 9.386e+01 6.442e+02 1.099e-01 9.242e-02 6.895e-02\n",
      " 6.495e-02 1.650e-01 6.121e-02 3.060e-01 7.213e-01 2.143e+00 2.570e+01\n",
      " 6.133e-03 1.251e-02 1.615e-02 1.136e-02 2.207e-02 3.563e-03 1.580e+01\n",
      " 1.693e+01 1.031e+02 7.499e+02 1.347e-01 1.478e-01 1.373e-01 1.069e-01\n",
      " 2.606e-01 7.810e-02]\n",
      "\n",
      "size of the training dataset :  (381, 30)\n",
      "number of the training dataset :  381\n",
      "dimension of the training dataset :  30\n"
     ]
    }
   ],
   "source": [
    "print('A sample from the training dataset:\\n')\n",
    "print(X_train_cancer[0])\n",
    "print()\n",
    "print('size of the training dataset : ', X_train_cancer.shape)\n",
    "print('number of the training dataset : ', X_train_cancer.shape[0])\n",
    "print('dimension of the training dataset : ', X_train_cancer.shape[1])"
   ]
  },
  {
   "cell_type": "markdown",
   "metadata": {},
   "source": [
    "# Problem 1: Gaussian Naive Bayes"
   ]
  },
  {
   "cell_type": "code",
   "execution_count": 3,
   "metadata": {},
   "outputs": [],
   "source": [
    "Naive_Bayes = hw3.Gaussian_Naive_Bayes()"
   ]
  },
  {
   "cell_type": "code",
   "execution_count": 6,
   "metadata": {},
   "outputs": [],
   "source": [
    "Naive_Bayes.fit(X_train_cancer, y_train_cancer)"
   ]
  },
  {
   "cell_type": "code",
   "execution_count": null,
   "metadata": {},
   "outputs": [],
   "source": [
    "def gen_by_class(self):\n",
    "        \"\"\"\n",
    "        With the given input dataset (self.x, self.y), generate 3 dictionaries to calculate class-wise mean and variance of the data.\n",
    "        - self.x_by_class : A dictionary of numpy arraies with the keys as each class label and values as data with such label.\n",
    "        - self.mean_by_class : A dictionary of numpy arraies with the keys as each class label and values as mean of the data with such label.\n",
    "        - self.std_by_class : A dictionary of numpy arraies with the keys as each class label and values as standard deviation of the data with such \n",
    "        label.\n",
    "        - self.y_prior : A numpy array of shape (C,) containing prior probability of each class\n",
    "        \"\"\"\n",
    "        self.x_by_class = dict()\n",
    "        self.mean_by_class = dict()\n",
    "        self.std_by_class = dict()\n",
    "        self.y_prior = None\n",
    "        \n",
    "        ############################################################\n",
    "        ############################################################\n",
    "        # BEGIN_YOUR_CODE\n",
    "        # Generate dictionaries.\n",
    "        # hint : to see all unique y labels, you might use np.unique function, e.g., np.unique(self.y)\n",
    "        \n",
    "        self.std\n",
    "        self.mean\n",
    "\n",
    "        pass\n",
    "\n",
    "        # END_YOUR_CODE\n",
    "        ############################################################\n",
    "        ############################################################   "
   ]
  },
  {
   "cell_type": "code",
   "execution_count": 8,
   "metadata": {},
   "outputs": [
    {
     "name": "stdout",
     "output_type": "stream",
     "text": [
      "{0: array([[2.137e+01, 1.510e+01, 1.413e+02, ..., 1.966e-01, 2.730e-01,\n",
      "        8.666e-02],\n",
      "       [1.546e+01, 2.395e+01, 1.038e+02, ..., 2.163e-01, 3.013e-01,\n",
      "        1.067e-01],\n",
      "       [1.506e+01, 1.983e+01, 1.003e+02, ..., 2.115e-01, 2.834e-01,\n",
      "        8.234e-02],\n",
      "       ...,\n",
      "       [2.321e+01, 2.697e+01, 1.535e+02, ..., 2.593e-01, 3.103e-01,\n",
      "        8.677e-02],\n",
      "       [1.865e+01, 1.760e+01, 1.237e+02, ..., 2.378e-01, 3.799e-01,\n",
      "        9.185e-02],\n",
      "       [1.845e+01, 2.191e+01, 1.202e+02, ..., 1.379e-01, 3.109e-01,\n",
      "        7.610e-02]]), 1: array([[1.453e+01, 1.398e+01, 9.386e+01, ..., 1.069e-01, 2.606e-01,\n",
      "        7.810e-02],\n",
      "       [9.029e+00, 1.733e+01, 5.879e+01, ..., 1.750e-01, 4.228e-01,\n",
      "        1.175e-01],\n",
      "       [1.458e+01, 1.366e+01, 9.429e+01, ..., 9.186e-02, 2.626e-01,\n",
      "        7.048e-02],\n",
      "       ...,\n",
      "       [1.134e+01, 2.126e+01, 7.248e+01, ..., 8.278e-02, 2.829e-01,\n",
      "        8.832e-02],\n",
      "       [1.106e+01, 1.496e+01, 7.149e+01, ..., 1.075e-01, 3.301e-01,\n",
      "        9.080e-02],\n",
      "       [1.346e+01, 1.875e+01, 8.744e+01, ..., 1.427e-01, 3.518e-01,\n",
      "        8.665e-02]])}\n"
     ]
    }
   ],
   "source": [
    "print(Naive_Bayes.x_by_class)"
   ]
  },
  {
   "cell_type": "code",
   "execution_count": 70,
   "metadata": {},
   "outputs": [
    {
     "data": {
      "text/plain": [
       "(381, 30)"
      ]
     },
     "execution_count": 70,
     "metadata": {},
     "output_type": "execute_result"
    }
   ],
   "source": [
    "X_train_cancer.shape"
   ]
  },
  {
   "cell_type": "code",
   "execution_count": 71,
   "metadata": {},
   "outputs": [
    {
     "name": "stdout",
     "output_type": "stream",
     "text": [
      "[1.76113043e+01 2.16226087e+01 1.16495580e+02 9.98584783e+02\n",
      " 1.02960942e-01 1.47478841e-01 1.65048333e-01 8.94352899e-02\n",
      " 1.91863768e-01 6.24223913e-02 6.31263768e-01 1.19612391e+00\n",
      " 4.50379710e+00 7.74844928e+01 6.98968116e-03 3.29436667e-02\n",
      " 4.25227536e-02 1.51556739e-02 2.02071159e-02 4.00893478e-03\n",
      " 2.13469565e+01 2.92308696e+01 1.43188261e+02 1.45909493e+03\n",
      " 1.45443406e-01 3.80479058e-01 4.55032464e-01 1.83754420e-01\n",
      " 3.21349275e-01 9.08883333e-02]\n"
     ]
    }
   ],
   "source": [
    "print(Naive_Bayes.mean_by_class[0])"
   ]
  },
  {
   "cell_type": "code",
   "execution_count": 10,
   "metadata": {
    "scrolled": true
   },
   "outputs": [
    {
     "name": "stdout",
     "output_type": "stream",
     "text": [
      "{0: array([3.37932794e+00, 3.41658529e+00, 2.32016512e+01, 3.95335933e+02,\n",
      "       1.25041801e-02, 5.51117839e-02, 7.92965899e-02, 3.61317333e-02,\n",
      "       2.87711954e-02, 7.07046701e-03, 3.93843701e-01, 4.58624916e-01,\n",
      "       2.88222029e+00, 7.19734882e+01, 3.26716105e-03, 1.79638571e-02,\n",
      "       2.25392174e-02, 5.27857683e-03, 1.00800399e-02, 1.97636170e-03,\n",
      "       4.59927455e+00, 5.13019972e+00, 3.17207004e+01, 6.52797908e+02,\n",
      "       2.15393747e-02, 1.67036825e-01, 1.80648697e-01, 4.69843606e-02,\n",
      "       7.45086175e-02, 2.09079822e-02]), 1: array([1.75186839e+00, 3.84113418e+00, 1.15976297e+01, 1.33572096e+02,\n",
      "       1.30493145e-02, 3.23400379e-02, 3.71778644e-02, 1.53829838e-02,\n",
      "       2.49380114e-02, 6.45376842e-03, 1.12873041e-01, 6.13028655e-01,\n",
      "       7.88804438e-01, 9.23554723e+00, 3.02963106e-03, 1.44936653e-02,\n",
      "       2.66407912e-02, 5.28555275e-03, 7.12945741e-03, 2.29793338e-03,\n",
      "       1.95716942e+00, 5.39912006e+00, 1.32873925e+01, 1.62789920e+02,\n",
      "       1.99855821e-02, 8.64307865e-02, 1.31115975e-01, 3.53374508e-02,\n",
      "       4.37406092e-02, 1.32589967e-02])}\n"
     ]
    }
   ],
   "source": [
    "print(Naive_Bayes.std_by_class)"
   ]
  },
  {
   "cell_type": "code",
   "execution_count": 19,
   "metadata": {
    "scrolled": true
   },
   "outputs": [
    {
     "data": {
      "text/plain": [
       "array([0.36220472, 0.63779528])"
      ]
     },
     "execution_count": 19,
     "metadata": {},
     "output_type": "execute_result"
    }
   ],
   "source": [
    "(Naive_Bayes.y_prior)"
   ]
  },
  {
   "cell_type": "code",
   "execution_count": null,
   "metadata": {},
   "outputs": [],
   "source": [
    "def predict(self, x):\n",
    "    ############################################################\n",
    "    ############################################################\n",
    "    # BEGIN_YOUR_CODE\n",
    "    # calculate \n",
    "        pass\n",
    "\n",
    "    # END_YOUR_CODE\n",
    "    ############################################################\n",
    "    ############################################################\n",
    "\n",
    "    return prediction"
   ]
  },
  {
   "cell_type": "markdown",
   "metadata": {},
   "source": [
    "prediction : (N x C) shape"
   ]
  },
  {
   "cell_type": "code",
   "execution_count": 72,
   "metadata": {},
   "outputs": [
    {
     "data": {
      "text/plain": [
       "array([[3.48588307e-005, 3.75250805e+005],\n",
       "       [4.09582367e-022, 2.67136964e-004],\n",
       "       [3.72972702e-007, 3.10165485e+004],\n",
       "       [2.09186034e+002, 1.08240316e-009],\n",
       "       [1.48685609e-007, 2.82537313e+009],\n",
       "       [4.30446503e-005, 4.87787311e+007],\n",
       "       [3.70519627e-016, 5.85683326e+000],\n",
       "       [9.05478832e-002, 9.25251801e-017],\n",
       "       [1.50650613e+001, 4.03801514e-003],\n",
       "       [2.07694485e-007, 7.11542490e+003],\n",
       "       [6.20663931e-019, 1.84454945e+001],\n",
       "       [4.69171428e-007, 1.03562184e+008],\n",
       "       [2.51081132e+000, 3.58774561e+005],\n",
       "       [2.17995838e+001, 1.85328243e-101],\n",
       "       [2.41800701e-007, 3.22760967e+009],\n",
       "       [5.95686468e+001, 1.01754530e-022],\n",
       "       [3.99026951e-005, 2.32843734e+009],\n",
       "       [2.61775764e-006, 1.19877591e+007],\n",
       "       [1.84577771e-008, 7.20693981e-055],\n",
       "       [2.24823348e+002, 5.74383544e-008],\n",
       "       [5.21723732e-001, 2.14289795e+005],\n",
       "       [1.67144596e-001, 5.54573474e+001],\n",
       "       [8.39087999e-005, 2.01736460e-034],\n",
       "       [1.65739393e-009, 4.07164661e+008],\n",
       "       [1.20948869e+003, 1.17651240e-090],\n",
       "       [4.56836606e-009, 1.96078560e+006],\n",
       "       [6.28168964e-006, 5.19602953e+009],\n",
       "       [4.23402301e-004, 7.07151600e+000],\n",
       "       [1.03025198e+001, 1.21576172e-012],\n",
       "       [2.79551091e-006, 4.32244725e+008],\n",
       "       [5.26236709e-015, 8.82027056e+003],\n",
       "       [2.88261228e-001, 1.79155733e+003],\n",
       "       [8.24711777e-007, 4.24369795e+005],\n",
       "       [1.90913226e+002, 1.30438381e-033],\n",
       "       [4.53927762e-004, 7.93647355e+010],\n",
       "       [9.30860202e-009, 4.66536367e+002],\n",
       "       [1.31595319e-003, 2.49485810e-020],\n",
       "       [4.72153927e-019, 2.05397199e-004],\n",
       "       [2.63143938e-002, 9.96808170e-006],\n",
       "       [2.01037623e-007, 4.07554144e+002],\n",
       "       [6.28642650e-010, 8.33583786e+001],\n",
       "       [4.89506108e-014, 1.10424910e+005],\n",
       "       [2.85832211e+001, 4.59990294e-001],\n",
       "       [1.46778869e-006, 4.13671192e+008],\n",
       "       [5.46535307e-008, 1.34847084e+003],\n",
       "       [3.30405567e+003, 6.92613487e-016],\n",
       "       [1.95091324e+002, 5.30933414e-044],\n",
       "       [1.95638633e+000, 1.95252785e-009],\n",
       "       [6.06607656e+002, 4.27328709e-074],\n",
       "       [2.27077969e-022, 8.70405417e-068],\n",
       "       [2.71875291e-006, 2.33536614e+009],\n",
       "       [2.03396111e-014, 1.12416550e-009],\n",
       "       [1.38804752e-002, 3.54827336e+004],\n",
       "       [2.80146182e-015, 5.49765784e+002],\n",
       "       [4.79976462e-009, 9.26717855e-003],\n",
       "       [4.63919773e-011, 2.16707278e-042],\n",
       "       [5.05081147e+001, 9.12165787e-009],\n",
       "       [1.65402464e-011, 2.37571432e+008],\n",
       "       [8.29006621e-001, 2.62691535e-004],\n",
       "       [1.20189945e-008, 1.47633067e+008],\n",
       "       [5.49001772e+003, 3.40273407e-055],\n",
       "       [2.35689330e-001, 2.69560429e+004],\n",
       "       [8.18063270e-007, 3.51666468e-009],\n",
       "       [1.01624965e-005, 5.36945291e+000],\n",
       "       [4.89595600e-119, 1.30608318e-136],\n",
       "       [8.10547752e-005, 1.24091101e+010],\n",
       "       [4.00331442e-006, 2.16926173e-009],\n",
       "       [7.75720675e-003, 4.64935862e+007],\n",
       "       [2.00975421e-012, 9.42151018e+003],\n",
       "       [1.63609858e-001, 1.00699273e-042],\n",
       "       [4.20017774e-003, 1.99374935e+008],\n",
       "       [5.41117922e-009, 1.31957570e+008],\n",
       "       [9.47427073e-003, 9.67730154e+005],\n",
       "       [6.41040457e-001, 5.55378399e-026],\n",
       "       [6.71018467e-005, 8.29159405e-022],\n",
       "       [3.53235816e-013, 6.54293701e+005],\n",
       "       [1.23940611e+002, 5.72561294e-030],\n",
       "       [1.36871376e-009, 6.53171604e+004],\n",
       "       [2.18765042e+003, 4.13655948e-042],\n",
       "       [2.13446470e-009, 4.47597389e-169],\n",
       "       [1.19413233e+003, 3.94875665e-040],\n",
       "       [6.18486881e-010, 4.00621883e-250],\n",
       "       [1.95735426e-007, 4.30389462e+007],\n",
       "       [3.71294186e-011, 2.49802331e+006],\n",
       "       [4.02081314e-006, 5.20549257e+009],\n",
       "       [2.10744990e-008, 2.91508948e+009],\n",
       "       [2.84054037e+003, 6.81037570e-038],\n",
       "       [6.08003467e-006, 2.94640197e+010],\n",
       "       [6.17977539e-005, 2.47703591e+008],\n",
       "       [2.40312591e-009, 2.33980554e+002],\n",
       "       [1.70227991e+000, 2.44786846e+006],\n",
       "       [2.80906908e+003, 5.10723570e-049],\n",
       "       [8.25133368e-004, 4.57506611e-048],\n",
       "       [1.89313492e-006, 9.65729565e+009],\n",
       "       [1.00691369e-003, 2.94611921e-041],\n",
       "       [4.91559441e-010, 1.13075612e+007],\n",
       "       [4.70852377e-008, 1.06864835e+010],\n",
       "       [2.76178182e-001, 5.77739959e-021],\n",
       "       [2.25347063e+002, 1.47198630e-114],\n",
       "       [6.42368980e-003, 2.02639054e-072],\n",
       "       [1.19228711e-012, 5.33985971e-018],\n",
       "       [2.18115611e-005, 1.89584631e+007],\n",
       "       [5.91787148e-017, 5.48021705e+000],\n",
       "       [4.50595803e+002, 8.71242776e-041],\n",
       "       [5.08679069e-004, 4.41193323e+006],\n",
       "       [1.54449327e-009, 1.72313657e+007],\n",
       "       [7.02066885e-009, 2.47197116e+009],\n",
       "       [2.07772834e-014, 1.10394723e+006],\n",
       "       [2.59967193e-006, 3.43406617e-002],\n",
       "       [4.32094394e-014, 4.18988360e+000],\n",
       "       [7.15659600e-008, 1.63761527e+009],\n",
       "       [1.29532201e+002, 4.48541340e-013],\n",
       "       [4.89311738e-014, 4.56011711e+003],\n",
       "       [1.33618314e-007, 4.59652128e+006],\n",
       "       [8.15687757e-005, 2.26241812e+010],\n",
       "       [8.13247062e+000, 5.40869991e-050],\n",
       "       [2.53365666e+000, 1.50169100e-088],\n",
       "       [5.50500609e-004, 3.99979324e-008],\n",
       "       [3.46641260e-009, 1.23003228e+009],\n",
       "       [2.08191367e-003, 1.24170644e+002],\n",
       "       [2.19264922e-003, 3.06358447e-002],\n",
       "       [7.47013246e-013, 7.12720225e+007],\n",
       "       [2.27115904e-009, 1.92887462e+007],\n",
       "       [1.71676036e-020, 2.87584193e-123],\n",
       "       [8.92269564e+003, 1.46472915e-022],\n",
       "       [3.94886756e+002, 1.54787885e-041],\n",
       "       [1.22905215e-006, 4.70432764e+008],\n",
       "       [2.21501514e-008, 2.24185473e+006],\n",
       "       [2.94565139e+000, 7.81741911e-052],\n",
       "       [8.95102207e-007, 4.11360131e+010],\n",
       "       [2.13912154e-009, 1.80931103e+006],\n",
       "       [2.53567936e-028, 1.40074091e-091],\n",
       "       [9.08293327e-005, 2.34895767e+004],\n",
       "       [4.10105119e-010, 1.63174700e+005],\n",
       "       [3.91994947e+000, 2.10835743e-055],\n",
       "       [3.83575486e+000, 2.11523895e-053],\n",
       "       [7.38170699e-007, 2.78799231e+010],\n",
       "       [2.37515638e+003, 4.82621463e-057],\n",
       "       [3.90476302e-004, 7.69503925e+008],\n",
       "       [9.33776685e-010, 9.02149845e+006],\n",
       "       [1.07978431e-008, 1.79054936e+008],\n",
       "       [1.15577739e-003, 1.81973496e-007],\n",
       "       [9.46479374e-013, 2.60606220e+007],\n",
       "       [1.65650218e-003, 4.79481262e+005],\n",
       "       [2.96168749e-006, 4.62273234e+008],\n",
       "       [2.60038349e+002, 1.13818448e-078],\n",
       "       [8.16595411e-009, 2.14984540e+009],\n",
       "       [1.83291114e-002, 6.08821614e+005],\n",
       "       [9.03435637e-011, 4.88247590e+004],\n",
       "       [1.45905832e+001, 1.06681602e-056],\n",
       "       [7.05001440e-014, 6.62966158e-032],\n",
       "       [4.19913019e-016, 5.94736348e+004],\n",
       "       [5.89099004e+001, 1.06594135e-018],\n",
       "       [1.24234562e-010, 4.07471154e+007],\n",
       "       [3.52202252e-004, 3.34504077e+006],\n",
       "       [4.40811959e-009, 1.93098069e+008],\n",
       "       [1.23980489e-035, 1.19664495e-025],\n",
       "       [7.47975691e-002, 2.57890749e+003],\n",
       "       [1.12924595e+003, 1.73759185e-071],\n",
       "       [1.23531475e-012, 6.10457316e-002],\n",
       "       [3.12744211e-007, 3.65352310e-052],\n",
       "       [5.75637234e-001, 2.47208301e+006],\n",
       "       [3.88986120e-012, 9.53498860e+001],\n",
       "       [1.81844595e+002, 1.19598461e-044],\n",
       "       [7.89445227e+002, 1.41416677e-051],\n",
       "       [9.24554155e-003, 1.00789923e-135],\n",
       "       [1.81286066e-012, 4.28862426e+006],\n",
       "       [4.02926144e-005, 4.88013879e+008],\n",
       "       [2.34299463e+000, 1.12131662e-037],\n",
       "       [5.48109115e-019, 3.93038161e+002],\n",
       "       [1.51921415e+001, 2.26271284e-021],\n",
       "       [2.04075711e-003, 5.74691898e+005],\n",
       "       [2.68642828e+001, 2.96609215e-039],\n",
       "       [2.34277451e+003, 1.77282316e-065],\n",
       "       [9.69905138e-008, 2.15716080e+003],\n",
       "       [3.05785981e-008, 1.40321871e+008],\n",
       "       [2.52461819e-008, 2.41606314e+005],\n",
       "       [5.30071319e-001, 6.09868864e-010],\n",
       "       [9.72302031e-001, 6.58792854e-109],\n",
       "       [2.14544775e-005, 9.66593671e-029],\n",
       "       [3.17118726e+002, 1.64988304e-022],\n",
       "       [1.53759220e-009, 2.83626424e+006],\n",
       "       [3.91442793e-017, 1.72825881e-006],\n",
       "       [1.36643362e-008, 5.56875661e+007],\n",
       "       [2.95848467e-001, 3.99234777e-013],\n",
       "       [2.87440376e-024, 2.97241571e-019],\n",
       "       [1.02506968e+002, 1.27821433e-018],\n",
       "       [5.80638903e-008, 5.03183262e+009]])"
      ]
     },
     "execution_count": 72,
     "metadata": {},
     "output_type": "execute_result"
    }
   ],
   "source": [
    "Naive_Bayes.predict(X_test_cancer)"
   ]
  },
  {
   "cell_type": "markdown",
   "metadata": {},
   "source": [
    "With the acquired mean and variance,we can compute probability from gaussian distribution"
   ]
  },
  {
   "cell_type": "markdown",
   "metadata": {},
   "source": [
    "$$f(x, \\mu, \\sigma) = \\frac{1}{\\sigma \\sqrt{2\\pi}} \\exp\\Big(-\\frac{1}{2}(\\frac{x-\\mu}{\\sigma})^2\\Big)$$"
   ]
  },
  {
   "cell_type": "markdown",
   "metadata": {},
   "source": [
    "$$P(x_1 = 3.37 | y = \\text{1} ) = f(3.37, \\mu_{11}, \\sigma_{11})$$\\\n",
    "$$P(x_1 = 3.37 | y = \\text{0} ) = f(3.37, \\mu_{10}, \\sigma_{10})$$"
   ]
  },
  {
   "cell_type": "code",
   "execution_count": 14,
   "metadata": {},
   "outputs": [
    {
     "data": {
      "text/plain": [
       "array([2.02978766e-02, 4.69219916e-03, 3.00504415e-03, 3.04140733e-04,\n",
       "       8.06332924e+00, 5.82170136e+00, 2.79226000e+00, 7.10349840e+00,\n",
       "       1.30633097e+01, 3.59292186e+01, 6.43656207e-01, 7.83040030e-01,\n",
       "       8.94043108e-02, 3.85013595e-03, 1.21389301e+02, 1.55446242e+01,\n",
       "       1.12241105e+01, 6.05436347e+01, 3.94293379e+01, 1.99726000e+02,\n",
       "       1.56794738e-02, 1.84570673e-02, 2.32866742e-03, 1.96676510e-04,\n",
       "       1.42694219e+01, 1.70132412e+00, 9.79622548e-01, 4.60722617e+00,\n",
       "       5.27403702e+00, 1.90461513e+01])"
      ]
     },
     "execution_count": 14,
     "metadata": {},
     "output_type": "execute_result"
    }
   ],
   "source": [
    "Naive_Bayes.calc_gaussian_dist(X_test_cancer[0], Naive_Bayes.mean_by_class[0], Naive_Bayes.std_by_class[0])"
   ]
  },
  {
   "cell_type": "markdown",
   "metadata": {},
   "source": [
    "Consider each feature as each 'word' in the previous spam detection hw"
   ]
  },
  {
   "cell_type": "code",
   "execution_count": 17,
   "metadata": {},
   "outputs": [
    {
     "data": {
      "text/plain": [
       "-9.238547421043787"
      ]
     },
     "execution_count": 17,
     "metadata": {},
     "output_type": "execute_result"
    }
   ],
   "source": [
    "np.sum(np.log(Naive_Bayes.calc_gaussian_dist(X_test_cancer[0], Naive_Bayes.mean_by_class[0], Naive_Bayes.std_by_class[0]))) + prior"
   ]
  },
  {
   "cell_type": "code",
   "execution_count": 25,
   "metadata": {},
   "outputs": [
    {
     "data": {
      "text/plain": [
       "0.9308510638297872"
      ]
     },
     "execution_count": 25,
     "metadata": {},
     "output_type": "execute_result"
    }
   ],
   "source": [
    "np.mean(Naive_Bayes.predict(X_test_cancer).argmax(-1) == y_test_cancer)"
   ]
  },
  {
   "cell_type": "markdown",
   "metadata": {},
   "source": [
    "# Problem 2: Two-layered Neural Network"
   ]
  },
  {
   "cell_type": "code",
   "execution_count": 26,
   "metadata": {},
   "outputs": [],
   "source": [
    "batch_size = 64\n",
    "iteration = 2000\n",
    "learning_rate = 1e-3\n",
    "reg = 1e-3\n",
    "\n",
    "hidden_size = 64\n",
    "\n",
    "NN = hw3.Neural_Network()"
   ]
  },
  {
   "cell_type": "code",
   "execution_count": 29,
   "metadata": {},
   "outputs": [],
   "source": [
    "dim = X_train_cancer.shape[1]\n",
    "num_train = X_train_cancer.shape[0]\n",
    "\n",
    "#initialize W\n",
    "if NN.W1 == None:\n",
    "    NN.W1 = 0.001 * np.random.randn(dim, NN.hidden_size)\n",
    "    NN.b1 = 0\n",
    "\n",
    "    NN.W2 = 0.001 * np.random.randn(NN.hidden_size, NN.output_size)\n",
    "    NN.b2 = 0\n"
   ]
  },
  {
   "cell_type": "code",
   "execution_count": 53,
   "metadata": {},
   "outputs": [],
   "source": [
    "batch_ind = np.random.choice(num_train, batch_size)\n",
    "\n",
    "x_batch = X_train_cancer[batch_ind]\n",
    "y_batch = y_train_cancer[batch_ind]"
   ]
  },
  {
   "cell_type": "markdown",
   "metadata": {},
   "source": [
    "Given an input batch $X$, we can compute NN as follows:"
   ]
  },
  {
   "cell_type": "markdown",
   "metadata": {},
   "source": [
    " $$g_1 = W_1^TX + b_1$$"
   ]
  },
  {
   "cell_type": "markdown",
   "metadata": {},
   "source": [
    "$$h_1 = ReLU(g_1)$$"
   ]
  },
  {
   "cell_type": "code",
   "execution_count": 78,
   "metadata": {},
   "outputs": [
    {
     "data": {
      "text/plain": [
       "<bound method Neural_Network.activation of <hw3_submission_sol.Neural_Network object at 0x7fc720116c50>>"
      ]
     },
     "execution_count": 78,
     "metadata": {},
     "output_type": "execute_result"
    }
   ],
   "source": [
    "NN.activation\n"
   ]
  },
  {
   "cell_type": "markdown",
   "metadata": {},
   "source": [
    "Where, ReLU(x) = x if x>0, else 0"
   ]
  },
  {
   "cell_type": "markdown",
   "metadata": {},
   "source": [
    " $$g_2 = W_2^Th_1 + b_2$$"
   ]
  },
  {
   "cell_type": "markdown",
   "metadata": {},
   "source": [
    "$$\\hat y = \\sigma(g_2)$$"
   ]
  },
  {
   "cell_type": "code",
   "execution_count": 37,
   "metadata": {},
   "outputs": [],
   "source": [
    "g1 = ###\n",
    "h1 = NN.activation(g1)\n",
    "\n",
    "g2 = ###\n",
    "\n",
    "y_hat = NN.sigmoid(g2)"
   ]
  },
  {
   "cell_type": "markdown",
   "metadata": {},
   "source": [
    "Based on that we calculate binary cross entropy loss $L_{CE}$ to update $W, b$."
   ]
  },
  {
   "cell_type": "markdown",
   "metadata": {},
   "source": [
    " $$L_{CE} = -\\frac{1}{|B|}\\sum_{B} \\big( y_i \\log \\hat y_i + (1-y_i)\\log (1-\\hat y_i) \\big)$$"
   ]
  },
  {
   "cell_type": "code",
   "execution_count": 79,
   "metadata": {},
   "outputs": [],
   "source": [
    "loss, gradient = NN.loss(x_batch, y_batch)"
   ]
  },
  {
   "cell_type": "code",
   "execution_count": 80,
   "metadata": {},
   "outputs": [
    {
     "data": {
      "text/plain": [
       "0.6922784140502373"
      ]
     },
     "execution_count": 80,
     "metadata": {},
     "output_type": "execute_result"
    }
   ],
   "source": [
    "loss"
   ]
  },
  {
   "cell_type": "code",
   "execution_count": 81,
   "metadata": {
    "scrolled": true
   },
   "outputs": [
    {
     "data": {
      "text/plain": [
       "{'dW1': array([[ 2.88014305e-06, -5.68166316e-07,  1.31920169e-06, ...,\n",
       "          1.28382471e-04,  2.36528755e-06,  1.20996982e-04],\n",
       "        [ 3.23078643e-07,  4.33155690e-07,  1.45539635e-06, ...,\n",
       "          5.58613322e-04,  2.99308776e-06,  2.83862574e-04],\n",
       "        [ 6.45063931e-08, -5.17656525e-07,  1.26688719e-06, ...,\n",
       "          2.27618363e-04,  1.62956067e-06,  6.11336868e-04],\n",
       "        ...,\n",
       "        [ 1.35419927e-06, -1.92914005e-07, -1.06484319e-07, ...,\n",
       "         -1.63414401e-05,  4.32010011e-06, -1.13739449e-06],\n",
       "        [ 8.78435641e-07,  1.99249988e-06, -2.02227541e-06, ...,\n",
       "          1.83942655e-05, -1.37467675e-06,  5.81861487e-06],\n",
       "        [-1.85159236e-06, -3.63649789e-06,  1.57925639e-06, ...,\n",
       "          5.14454790e-06,  6.17615884e-07,  1.90906711e-06]]),\n",
       " 'db1': 1.4640441612784642e-05,\n",
       " 'dW2': array([[-3.50095023e-06],\n",
       "        [ 3.34885688e-07],\n",
       "        [ 1.14751984e-06],\n",
       "        [ 9.49573374e-02],\n",
       "        [ 8.01727767e-02],\n",
       "        [-1.94284697e-06],\n",
       "        [ 8.68658853e-02],\n",
       "        [-2.32490955e-03],\n",
       "        [ 1.01383321e-01],\n",
       "        [ 1.17581565e-01],\n",
       "        [-2.77510761e-06],\n",
       "        [-3.54211969e-06],\n",
       "        [-1.95758518e-02],\n",
       "        [ 2.40232641e-04],\n",
       "        [ 1.49530767e-02],\n",
       "        [-3.53424128e-02],\n",
       "        [-5.75325777e-03],\n",
       "        [ 1.42568336e-02],\n",
       "        [ 5.87704402e-02],\n",
       "        [ 2.56046874e-03],\n",
       "        [-1.16997392e-06],\n",
       "        [ 1.61027006e-01],\n",
       "        [ 8.79545573e-07],\n",
       "        [-4.76865866e-02],\n",
       "        [ 1.94056705e-03],\n",
       "        [-3.41759680e-07],\n",
       "        [ 6.00389684e-02],\n",
       "        [-1.14676745e-06],\n",
       "        [ 6.14782073e-07],\n",
       "        [ 1.27003231e-06],\n",
       "        [ 1.12082256e-01],\n",
       "        [-1.48971437e-06],\n",
       "        [ 7.44691455e-02],\n",
       "        [ 7.90511692e-02],\n",
       "        [-3.83886318e-06],\n",
       "        [ 1.83785832e-01],\n",
       "        [ 7.40602942e-03],\n",
       "        [ 2.15717578e-06],\n",
       "        [ 1.52369257e-06],\n",
       "        [ 1.45445038e-01],\n",
       "        [ 1.58036560e-03],\n",
       "        [ 4.67190239e-03],\n",
       "        [-1.28832073e-02],\n",
       "        [-1.54658764e-06],\n",
       "        [ 2.09971578e-01],\n",
       "        [ 7.03938736e-07],\n",
       "        [ 4.03343404e-06],\n",
       "        [-3.88967276e-07],\n",
       "        [ 3.66496420e-06],\n",
       "        [-2.56901121e-06],\n",
       "        [ 5.87336329e-02],\n",
       "        [-2.28990079e-06],\n",
       "        [ 7.65224310e-07],\n",
       "        [-1.03408837e-06],\n",
       "        [-5.11011555e-03],\n",
       "        [-2.12715564e-05],\n",
       "        [ 1.21508350e-01],\n",
       "        [-2.23911564e-06],\n",
       "        [-9.74681068e-08],\n",
       "        [-1.07554860e-06],\n",
       "        [-9.85897607e-07],\n",
       "        [ 1.91298403e-02],\n",
       "        [ 1.30155508e-06],\n",
       "        [ 1.82081368e-01]]),\n",
       " 'db2': -0.11173632904073573}"
      ]
     },
     "execution_count": 81,
     "metadata": {},
     "output_type": "execute_result"
    }
   ],
   "source": [
    "gradient"
   ]
  },
  {
   "cell_type": "markdown",
   "metadata": {},
   "source": [
    "Make sure that gradients match with the shape with its parameter"
   ]
  },
  {
   "cell_type": "code",
   "execution_count": 82,
   "metadata": {},
   "outputs": [
    {
     "name": "stdout",
     "output_type": "stream",
     "text": [
      "(30, 64) (30, 64)\n",
      "(64, 1) (64, 1)\n"
     ]
    }
   ],
   "source": [
    "print(NN.W1.shape, gradient['dW1'].shape)\n",
    "print(NN.W2.shape, gradient['dW2'].shape)"
   ]
  },
  {
   "cell_type": "markdown",
   "metadata": {},
   "source": [
    "Now we have to compute the derivative of $L$ w.r.t. $W, b$ to update $W, b$.\\ with mini-batch stochastic gradient descent method.\\\n",
    "This can be done with chain rule"
   ]
  },
  {
   "cell_type": "markdown",
   "metadata": {},
   "source": [
    " $$L_{CE} = -\\frac{1}{|B|}\\sum_{B} \\big( y_i \\log \\hat y_i + (1-y_i)\\log (1-\\hat y_i) \\big)$$"
   ]
  },
  {
   "cell_type": "markdown",
   "metadata": {},
   "source": [
    "$${\\hat{y}} = \\sigma(g_2) = \\frac{1}{1+ \\exp(-g_2)}$$"
   ]
  },
  {
   "cell_type": "markdown",
   "metadata": {},
   "source": [
    " $$g_2 = W_2^Th_1 + b_2$$"
   ]
  },
  {
   "cell_type": "markdown",
   "metadata": {},
   "source": [
    "$$h_1 = ReLU(g_1)$$"
   ]
  },
  {
   "cell_type": "markdown",
   "metadata": {},
   "source": [
    " $$g_1 = W_1^TX + b_1$$"
   ]
  },
  {
   "cell_type": "markdown",
   "metadata": {},
   "source": [
    "Updating $W_2, b_2$ is similar to what we did in Logistic Regression"
   ]
  },
  {
   "cell_type": "markdown",
   "metadata": {},
   "source": [
    "$$\\frac{\\partial L}{\\partial W_2} = \n",
    "\\frac{\\partial L}{\\partial \\hat y} \\cdot \\frac{\\partial \\hat y}{\\partial g_2} \\cdot \\frac{\\partial g_2}{\\partial W_2} $$ \\\n",
    "$$\\frac{\\partial L}{\\partial b_2} = \\frac{\\partial L}{\\partial \\hat y} \\cdot \\frac{\\partial \\hat y}{\\partial g_2} \\cdot \\frac{\\partial g_2}{\\partial b_2} $$ "
   ]
  },
  {
   "cell_type": "markdown",
   "metadata": {},
   "source": [
    "To update $W_1, b_1$, we back propagate the gradient as below"
   ]
  },
  {
   "cell_type": "markdown",
   "metadata": {},
   "source": [
    " $$L_{CE} = -\\frac{1}{|B|}\\sum_{B} \\big( y_i \\log \\hat y_i + (1-y_i)\\log (1-\\hat y_i) \\big)$$"
   ]
  },
  {
   "cell_type": "markdown",
   "metadata": {},
   "source": [
    "$${\\hat{y}} = \\sigma(g_2) = \\frac{1}{1+ \\exp(-g_2)}$$"
   ]
  },
  {
   "cell_type": "markdown",
   "metadata": {},
   "source": [
    " $$g_2 = W_2^Th_1 + b_2$$"
   ]
  },
  {
   "cell_type": "markdown",
   "metadata": {},
   "source": [
    "$$h_1 = ReLU(g_1)$$"
   ]
  },
  {
   "cell_type": "markdown",
   "metadata": {},
   "source": [
    " $$g_1 = W_1^TX + b_1$$"
   ]
  },
  {
   "cell_type": "markdown",
   "metadata": {},
   "source": [
    "$$\\frac{\\partial L}{\\partial W_1} = \n",
    "\\frac{\\partial L}{\\partial \\hat y} \\cdot \\frac{\\partial \\hat y}{\\partial g_2} \\cdot \\frac{\\partial g_2}{\\partial h_1} \\cdot \\frac{\\partial h_1}{\\partial g_1} \\cdot \\frac{\\partial g_1}{\\partial W_1}$$ \\\n",
    "$$\\frac{\\partial L}{\\partial b_1} = \n",
    "\\frac{\\partial L}{\\partial \\hat y} \\cdot \\frac{\\partial \\hat y}{\\partial g_2} \\cdot \\frac{\\partial g_2}{\\partial h_1} \\cdot \\frac{\\partial h_1}{\\partial g_1} \\cdot \\frac{\\partial g_1}{\\partial b_1}$$"
   ]
  },
  {
   "cell_type": "markdown",
   "metadata": {},
   "source": [
    "You can easily compute  intermediate gradients as described in previous overview session."
   ]
  },
  {
   "cell_type": "markdown",
   "metadata": {},
   "source": [
    "Note that"
   ]
  },
  {
   "cell_type": "markdown",
   "metadata": {},
   "source": [
    "$$   \n",
    "    ReLU(x) = \\left\\{\\begin{array}{lr}\n",
    "        x, & \\text{for } 0\\leq x\\\\\n",
    "        0, & \\text{for } else \\\\\n",
    "        \\end{array}\\right\\} \n",
    "$$"
   ]
  },
  {
   "cell_type": "markdown",
   "metadata": {},
   "source": [
    "The gradient of this would be"
   ]
  },
  {
   "cell_type": "markdown",
   "metadata": {},
   "source": [
    "$$   \n",
    "    \\frac{\\partial ReLU(x)}{\\partial x}\n",
    "        = \\left\\{\\begin{array}{lr}\n",
    "        1, & \\text{for } 0\\leq x\\\\\n",
    "        0, & \\text{for } else \\\\\n",
    "        \\end{array}\\right\\} \n",
    "$$"
   ]
  },
  {
   "cell_type": "code",
   "execution_count": 83,
   "metadata": {},
   "outputs": [],
   "source": [
    "loss, gradient = NN.loss(x_batch, y_batch)"
   ]
  },
  {
   "cell_type": "markdown",
   "metadata": {},
   "source": [
    "Then with the $dW, db$ above, you can update $W, b$ with a given learning rate $\\alpha$"
   ]
  },
  {
   "cell_type": "markdown",
   "metadata": {},
   "source": [
    "$$W \\leftarrow W - \\alpha \\cdot  dW$$\\\n",
    "$$b \\leftarrow b - \\alpha \\cdot  db$$\n"
   ]
  },
  {
   "cell_type": "code",
   "execution_count": null,
   "metadata": {},
   "outputs": [],
   "source": [
    "Logistic_Regression.W1 <- Update\n",
    "Logistic_Regression.W2 <- Update\n",
    "Logistic_Regression.b1 <- Update\n",
    "Logistic_Regression.b2 <- Update"
   ]
  },
  {
   "cell_type": "code",
   "execution_count": null,
   "metadata": {},
   "outputs": [],
   "source": []
  },
  {
   "cell_type": "code",
   "execution_count": null,
   "metadata": {},
   "outputs": [],
   "source": []
  },
  {
   "cell_type": "code",
   "execution_count": null,
   "metadata": {},
   "outputs": [],
   "source": []
  }
 ],
 "metadata": {
  "kernelspec": {
   "display_name": "Python [conda env:aif]",
   "language": "python",
   "name": "conda-env-aif-py"
  },
  "language_info": {
   "codemirror_mode": {
    "name": "ipython",
    "version": 3
   },
   "file_extension": ".py",
   "mimetype": "text/x-python",
   "name": "python",
   "nbconvert_exporter": "python",
   "pygments_lexer": "ipython3",
   "version": "3.6.7"
  }
 },
 "nbformat": 4,
 "nbformat_minor": 2
}
