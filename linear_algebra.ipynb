{
 "cells": [
  {
   "cell_type": "code",
   "execution_count": 3,
   "metadata": {},
   "outputs": [
    {
     "name": "stdout",
     "output_type": "stream",
     "text": [
      "[[ 1.  2.  3.  4.]\n",
      " [ 5.  6.  7.  8.]\n",
      " [ 9. 10. 11. 12.]]\n"
     ]
    }
   ],
   "source": [
    "import numpy as np\n",
    "\n",
    "A = np.linspace(1., 12., 12).reshape(3,4)\n",
    "print A"
   ]
  },
  {
   "cell_type": "code",
   "execution_count": 40,
   "metadata": {},
   "outputs": [
    {
     "name": "stdout",
     "output_type": "stream",
     "text": [
      "(3, 4)\n"
     ]
    }
   ],
   "source": [
    "print A.shape"
   ]
  },
  {
   "cell_type": "code",
   "execution_count": 58,
   "metadata": {},
   "outputs": [
    {
     "name": "stdout",
     "output_type": "stream",
     "text": [
      "[[ 1.  2.  3.  4.]\n",
      " [ 5.  6.  7.  8.]\n",
      " [ 9. 10. 11. 12.]]\n",
      "[[ 1.  5.  9.]\n",
      " [ 2.  6. 10.]\n",
      " [ 3.  7. 11.]\n",
      " [ 4.  8. 12.]]\n"
     ]
    }
   ],
   "source": [
    "print A\n",
    "print A.T # A. transpose()"
   ]
  },
  {
   "cell_type": "code",
   "execution_count": 42,
   "metadata": {},
   "outputs": [
    {
     "name": "stdout",
     "output_type": "stream",
     "text": [
      "[[1. 0. 0. 0.]\n",
      " [0. 1. 0. 0.]\n",
      " [0. 0. 1. 0.]\n",
      " [0. 0. 0. 1.]]\n"
     ]
    }
   ],
   "source": [
    "I = np.identity(4) # square matrix\n",
    "print I"
   ]
  },
  {
   "cell_type": "code",
   "execution_count": 62,
   "metadata": {},
   "outputs": [
    {
     "name": "stdout",
     "output_type": "stream",
     "text": [
      "[[ 1.  2.  3.  4.]\n",
      " [ 5.  6.  7.  8.]\n",
      " [ 9. 10. 11. 12.]]\n",
      "[[ 1.  2.  3.  4.]\n",
      " [ 5.  6.  7.  8.]\n",
      " [ 9. 10. 11. 12.]]\n",
      "[[  1.   4.   9.  16.]\n",
      " [ 25.  36.  49.  64.]\n",
      " [ 81. 100. 121. 144.]]\n"
     ]
    }
   ],
   "source": [
    "print A\n",
    "print np.dot(A, I) # dot product\n",
    "# print np.dot(A, A) # dot product\n",
    "\n",
    "print A*A # elementwise product"
   ]
  },
  {
   "cell_type": "code",
   "execution_count": 64,
   "metadata": {},
   "outputs": [
    {
     "name": "stdout",
     "output_type": "stream",
     "text": [
      "[[ 30.  70. 110.]\n",
      " [ 70. 174. 278.]\n",
      " [110. 278. 446.]]\n",
      "[[ 0.26649306  0.07638889 -0.11371528]\n",
      " [ 0.07638889  0.02222222 -0.03194444]\n",
      " [-0.11371528 -0.03194444  0.04982639]]\n"
     ]
    }
   ],
   "source": [
    "print np.dot(A, A.T)\n",
    "# print np.linalg.inv(np.dot(A, A.T)) # inverse\n",
    "print np.linalg.pinv(np.dot(A, A.T)) # pseduo inverse"
   ]
  },
  {
   "cell_type": "code",
   "execution_count": 45,
   "metadata": {},
   "outputs": [
    {
     "name": "stdout",
     "output_type": "stream",
     "text": [
      "[[ 1.  2.  3.  4.]\n",
      " [ 5.  6.  7.  8.]\n",
      " [ 9. 10. 11. 12.]]\n"
     ]
    },
    {
     "data": {
      "text/plain": [
       "25.495097567963924"
      ]
     },
     "execution_count": 45,
     "metadata": {},
     "output_type": "execute_result"
    }
   ],
   "source": [
    "print A\n",
    "np.linalg.norm(A, 'fro')"
   ]
  },
  {
   "cell_type": "code",
   "execution_count": 46,
   "metadata": {},
   "outputs": [
    {
     "data": {
      "text/plain": [
       "25.495097567963924"
      ]
     },
     "execution_count": 46,
     "metadata": {},
     "output_type": "execute_result"
    }
   ],
   "source": [
    "np.sqrt(np.sum(A*A))"
   ]
  },
  {
   "cell_type": "code",
   "execution_count": 65,
   "metadata": {},
   "outputs": [
    {
     "name": "stdout",
     "output_type": "stream",
     "text": [
      "[[ 1.  2.  3.  4.]\n",
      " [ 5.  6.  7.  8.]\n",
      " [ 9. 10. 11. 12.]]\n"
     ]
    },
    {
     "data": {
      "text/plain": [
       "42.0"
      ]
     },
     "execution_count": 65,
     "metadata": {},
     "output_type": "execute_result"
    }
   ],
   "source": [
    "print A\n",
    "np.linalg.norm(A[2,:], 1)"
   ]
  },
  {
   "cell_type": "code",
   "execution_count": 68,
   "metadata": {},
   "outputs": [
    {
     "name": "stdout",
     "output_type": "stream",
     "text": [
      "122.0\n",
      "122.0\n"
     ]
    }
   ],
   "source": [
    "print np.sum(A[:,0]*A[:,1])\n",
    "print np.dot(A[:,0], A[:,1])"
   ]
  },
  {
   "cell_type": "code",
   "execution_count": 49,
   "metadata": {},
   "outputs": [
    {
     "name": "stdout",
     "output_type": "stream",
     "text": [
      "[[ 1.     2.375  3.75 ]\n",
      " [ 5.125  6.5    7.875]\n",
      " [ 9.25  10.625 12.   ]]\n",
      "[[ 0.21551859  0.78923294  0.40824829]\n",
      " [ 0.52077897  0.09095615 -0.81649658]\n",
      " [ 0.82603935 -0.60732063  0.40824829]]\n",
      "[ 2.11119431e+01 -1.61194306e+00 -1.14609993e-15]\n"
     ]
    }
   ],
   "source": [
    "B = np.linspace(1., 12., 9).reshape(3,3)\n",
    "Sb, Vb = np.linalg.eig(B)\n",
    "print B\n",
    "print Vb\n",
    "print Sb"
   ]
  },
  {
   "cell_type": "code",
   "execution_count": 50,
   "metadata": {},
   "outputs": [
    {
     "data": {
      "text/plain": [
       "array([[-8.88178420e-15,  6.66133815e-16, -1.35009687e-15],\n",
       "       [-2.48689958e-14, -1.02695630e-15, -3.06602710e-15],\n",
       "       [-2.84217094e-14, -1.22124533e-15, -1.97459732e-15]])"
      ]
     },
     "execution_count": 50,
     "metadata": {},
     "output_type": "execute_result"
    }
   ],
   "source": [
    "np.dot(B, Vb) - np.dot(Vb, np.diag(Sb))"
   ]
  },
  {
   "cell_type": "code",
   "execution_count": 51,
   "metadata": {},
   "outputs": [
    {
     "name": "stdout",
     "output_type": "stream",
     "text": [
      "[[-0.20673589  0.88915331  0.40824829]\n",
      " [-0.51828874  0.25438183 -0.81649658]\n",
      " [-0.82984158 -0.38038964  0.40824829]]\n",
      "[[2.54368356e+01 0.00000000e+00 0.00000000e+00 0.00000000e+00]\n",
      " [0.00000000e+00 1.72261225e+00 0.00000000e+00 0.00000000e+00]\n",
      " [0.00000000e+00 0.00000000e+00 4.20733283e-16 0.00000000e+00]]\n",
      "[[-0.40361757 -0.46474413 -0.52587069 -0.58699725]\n",
      " [-0.73286619 -0.28984978  0.15316664  0.59618305]\n",
      " [ 0.52407556 -0.81742848  0.06263029  0.23072264]\n",
      " [ 0.15920053  0.17835548 -0.83431256  0.49675655]]\n"
     ]
    }
   ],
   "source": [
    "Ua, sa, Va = np.linalg.svd(A, full_matrices=True)\n",
    "Sa = np.zeros((3,4))\n",
    "Sa[:3, :3] = np.diag(sa)\n",
    "\n",
    "print Ua\n",
    "print Sa\n",
    "print Va"
   ]
  },
  {
   "cell_type": "code",
   "execution_count": 52,
   "metadata": {
    "scrolled": false
   },
   "outputs": [
    {
     "name": "stdout",
     "output_type": "stream",
     "text": [
      "[[-5.55111512e-16 -1.11022302e-15 -1.33226763e-15 -2.66453526e-15]\n",
      " [-3.55271368e-15 -2.66453526e-15 -3.55271368e-15 -6.21724894e-15]\n",
      " [-3.55271368e-15 -3.55271368e-15 -3.55271368e-15 -8.88178420e-15]]\n",
      "[[-8.88178420e-16  1.11022302e-15 -6.07413409e-17  0.00000000e+00]\n",
      " [-3.55271368e-15  1.11022302e-15  1.67579492e-15  8.88178420e-16]\n",
      " [-3.55271368e-15  2.66453526e-15  1.60459320e-15  8.88178420e-16]]\n"
     ]
    }
   ],
   "source": [
    "print np.dot(Ua, np.dot(Sa, Va)) - A\n",
    "print np.dot(A, Va.transpose()) - np.dot(Ua, Sa)"
   ]
  },
  {
   "cell_type": "code",
   "execution_count": 53,
   "metadata": {
    "scrolled": true
   },
   "outputs": [
    {
     "name": "stdout",
     "output_type": "stream",
     "text": [
      "[ 1.61803399 -0.61803399] [[ 0.85065081 -0.52573111]\n",
      " [ 0.52573111  0.85065081]]\n"
     ]
    }
   ],
   "source": [
    "C = np.array([[1,1],[1,0]])\n",
    "S, V = np.linalg.eig(C)\n",
    "print S, V"
   ]
  },
  {
   "cell_type": "code",
   "execution_count": 54,
   "metadata": {},
   "outputs": [
    {
     "name": "stdout",
     "output_type": "stream",
     "text": [
      "[1.  0.6] [[ 0.9486833  -0.70710678]\n",
      " [ 0.31622777  0.70710678]]\n"
     ]
    }
   ],
   "source": [
    "C = np.array([[0.9,0.3],[0.1,0.7]])\n",
    "S, V = np.linalg.eig(C)\n",
    "print S, V"
   ]
  },
  {
   "cell_type": "code",
   "execution_count": 55,
   "metadata": {},
   "outputs": [
    {
     "name": "stdout",
     "output_type": "stream",
     "text": [
      "[[-0.8816746  -0.47185793]\n",
      " [-0.47185793  0.8816746 ]] [1.02983257 0.58261898] [[-0.81633943 -0.57757246]\n",
      " [-0.57757246  0.81633943]]\n"
     ]
    }
   ],
   "source": [
    "U, S, V = np.linalg.svd(C)\n",
    "print U, S, V"
   ]
  },
  {
   "cell_type": "code",
   "execution_count": 6,
   "metadata": {},
   "outputs": [
    {
     "name": "stdout",
     "output_type": "stream",
     "text": [
      "[1.65 0.85]\n",
      "[1.74 0.76]\n",
      "[1.794 0.706]\n",
      "[1.8264 0.6736]\n",
      "[1.84584 0.65416]\n",
      "[1.857504 0.642496]\n",
      "[1.8645024 0.6354976]\n",
      "[1.86870144 0.63129856]\n",
      "[1.87122086 0.62877914]\n",
      "[1.87273252 0.62726748]\n",
      "[1.87363951 0.62636049]\n",
      "[1.87418371 0.62581629]\n",
      "[1.87451022 0.62548978]\n",
      "[1.87470613 0.62529387]\n",
      "[1.87482368 0.62517632]\n",
      "[1.87489421 0.62510579]\n",
      "[1.87493653 0.62506347]\n",
      "[1.87496192 0.62503808]\n",
      "[1.87497715 0.62502285]\n",
      "[1.87498629 0.62501371]\n",
      "[1.87499177 0.62500823]\n",
      "[1.87499506 0.62500494]\n",
      "[1.87499704 0.62500296]\n",
      "[1.87499822 0.62500178]\n",
      "[1.87499893 0.62500107]\n",
      "[1.87499936 0.62500064]\n",
      "[1.87499962 0.62500038]\n",
      "[1.87499977 0.62500023]\n",
      "[1.87499986 0.62500014]\n",
      "[1.87499992 0.62500008]\n"
     ]
    }
   ],
   "source": [
    "C = np.array([[0.9,0.3],[0.1,0.7]])\n",
    "S, V = np.linalg.eig(C)\n",
    "# print S, V\n",
    "\n",
    "# S = np.array([[1.1, 0],[0, 0.5]])\n",
    "# D = np.dot(np.dot(V.transpose(), S),V)\n",
    "\n",
    "# S, V = np.linalg.eig(B)\n",
    "# S, V\n",
    "\n",
    "D = C\n",
    "x = np.array([1.5, 1])\n",
    "\n",
    "for i in np.arange(30):\n",
    "    x = np.dot(D,x)\n",
    "    print x #np.linalg.norm(x)"
   ]
  },
  {
   "cell_type": "code",
   "execution_count": 57,
   "metadata": {},
   "outputs": [
    {
     "name": "stdout",
     "output_type": "stream",
     "text": [
      "[[1 1]\n",
      " [1 0]]\n"
     ]
    },
    {
     "data": {
      "text/plain": [
       "-1.0"
      ]
     },
     "execution_count": 57,
     "metadata": {},
     "output_type": "execute_result"
    }
   ],
   "source": [
    "print C\n",
    "np.linalg.det(C)"
   ]
  }
 ],
 "metadata": {
  "kernelspec": {
   "display_name": "Python 2",
   "language": "python",
   "name": "python2"
  },
  "language_info": {
   "codemirror_mode": {
    "name": "ipython",
    "version": 2
   },
   "file_extension": ".py",
   "mimetype": "text/x-python",
   "name": "python",
   "nbconvert_exporter": "python",
   "pygments_lexer": "ipython2",
   "version": "2.7.16"
  }
 },
 "nbformat": 4,
 "nbformat_minor": 2
}
